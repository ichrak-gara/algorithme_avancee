{
 "cells": [
  {
   "cell_type": "code",
   "execution_count": 1,
   "metadata": {},
   "outputs": [],
   "source": [
    "import numpy as np\n",
    "import copy\n",
    "global N\n",
    "#Définir une grille vide (n'importe quelle taille est acceptable)\n",
    "N=9 #taille de l'échiquier \n",
    "grid=[[0]*N for i in range(N)]"
   ]
  },
  {
   "cell_type": "code",
   "execution_count": 2,
   "metadata": {},
   "outputs": [],
   "source": [
    "def possible(grid,y,x):# est-il possible de placer une reine dans y, x?\n",
    "\n",
    "    l=len(grid) # Quelle est la taille de notre grille?\n",
    "    \n",
    "    for i in range(l): #check for reines sur la ligne y\n",
    "        if grid[y][i]=='Q': #si existe retourner faux\n",
    "            return False\n",
    "    for i in range(l):  #check for reines sur la colonne x\n",
    "        if grid[i][x]=='Q': #si existe retourner 0\n",
    "            return False\n",
    "        \n",
    "    for i in range(l):  #boucle à travers toutes les lignes\n",
    "        for j in range(l): #et colonnes\n",
    "            if grid[i][j]=='Q':  #s'il y a une reine\n",
    "                if abs(i - y) == abs(j - x): # et s'il y en a un autre sur une diagonale\n",
    "                    return False #return false\n",
    "    return True #si chaque vérification est effacée, nous pouvons retourner true"
   ]
  },
  {
   "cell_type": "code",
   "execution_count": 3,
   "metadata": {},
   "outputs": [],
   "source": [
    "def remplir(T,i,j,k=1):\n",
    "   \n",
    "    \n",
    "    for l in range(0,N):\n",
    "        T[l][j]=k\n",
    "    for c in range(0,N):\n",
    "        T[i][c]=k\n",
    "    ii, jj = i+1, j+1\n",
    "    l = len(T)\n",
    "    while ii < l and jj < l:\n",
    "        T[ii][jj]=k\n",
    "        ii, jj = ii + 1, jj + 1\n",
    "    row=i\n",
    "    col=j\n",
    "    ii, jj = row+1, col-1\n",
    "    while ii < l and jj >= 0:\n",
    "        T[ii][jj]=k\n",
    "        ii, jj = ii + 1, jj - 1\n",
    "        \n",
    "        \n",
    "    row=i\n",
    "    col=j\n",
    "    ii, jj = row-1, col+1\n",
    "    while ii >= 0 and jj < l:\n",
    "        \n",
    "       \n",
    "        T[ii][jj]=k\n",
    "        ii, jj = ii - 1, jj + 1\n",
    "    \n",
    "    \n",
    "    return T"
   ]
  },
  {
   "cell_type": "code",
   "execution_count": 4,
   "metadata": {},
   "outputs": [],
   "source": [
    "def nreines(grid):\n",
    "    s=0\n",
    "    ss=0\n",
    "    for i in range(N):\n",
    "        for j in range(N):\n",
    "            if grid[i][j]=='Q':\n",
    "                s+=1\n",
    "            if grid[i][j]==0:\n",
    "                ss+=1\n",
    "    if s==len(grid) and ss==0:\n",
    "        return True"
   ]
  },
  {
   "cell_type": "code",
   "execution_count": 5,
   "metadata": {},
   "outputs": [],
   "source": [
    "def resoudre(grid):\n",
    "    \n",
    "    l=len(grid) #longueur de notre grille    \n",
    "    if nreines(grid):\n",
    "        return grid\n",
    "    for y in range(l): # pour chaque ligne\n",
    "        for x in range(l): #pour chaque colonne\n",
    "            if grid[y][x]==0: # on peut placer s'il n'y a pas de reine à la position donnée\n",
    "                if possible(grid,y,x):#si vide, vérifie si on peut placer une reine\n",
    "                    remplir(grid,y,x)\n",
    "                    grid[y][x]='Q' # si nous pouvons, alors placez-le\n",
    "                    resoudre(grid) #pass grid pour une solution récursive\n",
    "                    #si nous nous retrouvons ici, cela signifie que nous avons cherché dans toutes les branches enfants\n",
    "                    # nous réussissons donc retournez\n",
    "                    if nreines(grid):\n",
    "                            return grid\n",
    "                    grid[y][x]=1\n",
    "                    remplir(grid,y,x,0)\n",
    "                      #remove la reine précédemment placée\n",
    "                    \n",
    "\n",
    "    return grid # signifie que nous avons recherché l'espace, nous pouvons retourner notre résultat\n"
   ]
  },
  {
   "cell_type": "code",
   "execution_count": 6,
   "metadata": {},
   "outputs": [
    {
     "name": "stdout",
     "output_type": "stream",
     "text": [
      "[['Q' '1' '1' '1' '1' '1' '1' '1' '1']\n",
      " ['1' '1' 'Q' '1' '1' '1' '1' '1' '1']\n",
      " ['1' '1' '1' '1' '1' 'Q' '1' '1' '1']\n",
      " ['1' '1' '1' '1' '1' '1' '1' 'Q' '1']\n",
      " ['1' 'Q' '1' '1' '1' '1' '1' '1' '1']\n",
      " ['1' '1' '1' 'Q' '1' '1' '1' '1' '1']\n",
      " ['1' '1' '1' '1' '1' '1' '1' '1' 'Q']\n",
      " ['1' '1' '1' '1' '1' '1' 'Q' '1' '1']\n",
      " ['1' '1' '1' '1' 'Q' '1' '1' '1' '1']]\n"
     ]
    }
   ],
   "source": [
    "Solution = resoudre(copy.deepcopy(grid)) #obtenir la solution\n",
    "print(np.matrix(Solution)) #Print la solution"
   ]
  },
  {
   "cell_type": "code",
   "execution_count": 7,
   "metadata": {},
   "outputs": [],
   "source": [
    "def plot(grid):# Tracez la solution sur un échiquier\n",
    "    import seaborn as sns\n",
    "    import matplotlib.pyplot as plt\n",
    "    import string\n",
    "    \n",
    "    l=len(grid)\n",
    "    Ly=list(range(1,l+1))[::-1]\n",
    "    ly = [str(i) for i in Ly]\n",
    "    Lx=list(string.ascii_uppercase)\n",
    "    lx=Lx[:l]\n",
    "    \n",
    "    plt.close('all')\n",
    "    sns.set(font_scale = 2)\n",
    "    plt.figure(figsize=(10,10))\n",
    "    ax = plt.gca() # vous devez d'abord obtenir la poignée d'axe\n",
    "    ax.set_aspect(1)\n",
    "    sns.heatmap(Solution,linewidths=.8,cbar=False,linecolor='blue',\n",
    "                cmap='Reds',center=0.4,xticklabels=lx,yticklabels=ly)"
   ]
  },
  {
   "cell_type": "code",
   "execution_count": 8,
   "metadata": {},
   "outputs": [
    {
     "ename": "TypeError",
     "evalue": "cannot perform reduce with flexible type",
     "output_type": "error",
     "traceback": [
      "\u001b[1;31m---------------------------------------------------------------------------\u001b[0m",
      "\u001b[1;31mTypeError\u001b[0m                                 Traceback (most recent call last)",
      "\u001b[1;32m<ipython-input-8-13468590cfdd>\u001b[0m in \u001b[0;36m<module>\u001b[1;34m\u001b[0m\n\u001b[1;32m----> 1\u001b[1;33m \u001b[0mplot\u001b[0m\u001b[1;33m(\u001b[0m\u001b[0mgrid\u001b[0m\u001b[1;33m)\u001b[0m\u001b[1;33m\u001b[0m\u001b[1;33m\u001b[0m\u001b[0m\n\u001b[0m",
      "\u001b[1;32m<ipython-input-7-e770276e0272>\u001b[0m in \u001b[0;36mplot\u001b[1;34m(grid)\u001b[0m\n\u001b[0;32m     15\u001b[0m     \u001b[0max\u001b[0m \u001b[1;33m=\u001b[0m \u001b[0mplt\u001b[0m\u001b[1;33m.\u001b[0m\u001b[0mgca\u001b[0m\u001b[1;33m(\u001b[0m\u001b[1;33m)\u001b[0m \u001b[1;31m# vous devez d'abord obtenir la poignée d'axe\u001b[0m\u001b[1;33m\u001b[0m\u001b[1;33m\u001b[0m\u001b[0m\n\u001b[0;32m     16\u001b[0m     \u001b[0max\u001b[0m\u001b[1;33m.\u001b[0m\u001b[0mset_aspect\u001b[0m\u001b[1;33m(\u001b[0m\u001b[1;36m1\u001b[0m\u001b[1;33m)\u001b[0m\u001b[1;33m\u001b[0m\u001b[1;33m\u001b[0m\u001b[0m\n\u001b[1;32m---> 17\u001b[1;33m     sns.heatmap(Solution,linewidths=.8,cbar=False,linecolor='blue',\n\u001b[0m\u001b[0;32m     18\u001b[0m                 cmap='Reds',center=0.4,xticklabels=lx,yticklabels=ly)\n",
      "\u001b[1;32mC:\\ProgramData\\Anaconda3\\lib\\site-packages\\seaborn\\matrix.py\u001b[0m in \u001b[0;36mheatmap\u001b[1;34m(data, vmin, vmax, cmap, center, robust, annot, fmt, annot_kws, linewidths, linecolor, cbar, cbar_kws, cbar_ax, square, xticklabels, yticklabels, mask, ax, **kwargs)\u001b[0m\n\u001b[0;32m    533\u001b[0m     \"\"\"\n\u001b[0;32m    534\u001b[0m     \u001b[1;31m# Initialize the plotter object\u001b[0m\u001b[1;33m\u001b[0m\u001b[1;33m\u001b[0m\u001b[1;33m\u001b[0m\u001b[0m\n\u001b[1;32m--> 535\u001b[1;33m     plotter = _HeatMapper(data, vmin, vmax, cmap, center, robust, annot, fmt,\n\u001b[0m\u001b[0;32m    536\u001b[0m                           \u001b[0mannot_kws\u001b[0m\u001b[1;33m,\u001b[0m \u001b[0mcbar\u001b[0m\u001b[1;33m,\u001b[0m \u001b[0mcbar_kws\u001b[0m\u001b[1;33m,\u001b[0m \u001b[0mxticklabels\u001b[0m\u001b[1;33m,\u001b[0m\u001b[1;33m\u001b[0m\u001b[1;33m\u001b[0m\u001b[0m\n\u001b[0;32m    537\u001b[0m                           yticklabels, mask)\n",
      "\u001b[1;32mC:\\ProgramData\\Anaconda3\\lib\\site-packages\\seaborn\\matrix.py\u001b[0m in \u001b[0;36m__init__\u001b[1;34m(self, data, vmin, vmax, cmap, center, robust, annot, fmt, annot_kws, cbar, cbar_kws, xticklabels, yticklabels, mask)\u001b[0m\n\u001b[0;32m    162\u001b[0m \u001b[1;33m\u001b[0m\u001b[0m\n\u001b[0;32m    163\u001b[0m         \u001b[1;31m# Determine good default values for the colormapping\u001b[0m\u001b[1;33m\u001b[0m\u001b[1;33m\u001b[0m\u001b[1;33m\u001b[0m\u001b[0m\n\u001b[1;32m--> 164\u001b[1;33m         self._determine_cmap_params(plot_data, vmin, vmax,\n\u001b[0m\u001b[0;32m    165\u001b[0m                                     cmap, center, robust)\n\u001b[0;32m    166\u001b[0m \u001b[1;33m\u001b[0m\u001b[0m\n",
      "\u001b[1;32mC:\\ProgramData\\Anaconda3\\lib\\site-packages\\seaborn\\matrix.py\u001b[0m in \u001b[0;36m_determine_cmap_params\u001b[1;34m(self, plot_data, vmin, vmax, cmap, center, robust)\u001b[0m\n\u001b[0;32m    201\u001b[0m                 \u001b[0mvmin\u001b[0m \u001b[1;33m=\u001b[0m \u001b[0mnp\u001b[0m\u001b[1;33m.\u001b[0m\u001b[0mnanpercentile\u001b[0m\u001b[1;33m(\u001b[0m\u001b[0mcalc_data\u001b[0m\u001b[1;33m,\u001b[0m \u001b[1;36m2\u001b[0m\u001b[1;33m)\u001b[0m\u001b[1;33m\u001b[0m\u001b[1;33m\u001b[0m\u001b[0m\n\u001b[0;32m    202\u001b[0m             \u001b[1;32melse\u001b[0m\u001b[1;33m:\u001b[0m\u001b[1;33m\u001b[0m\u001b[1;33m\u001b[0m\u001b[0m\n\u001b[1;32m--> 203\u001b[1;33m                 \u001b[0mvmin\u001b[0m \u001b[1;33m=\u001b[0m \u001b[0mnp\u001b[0m\u001b[1;33m.\u001b[0m\u001b[0mnanmin\u001b[0m\u001b[1;33m(\u001b[0m\u001b[0mcalc_data\u001b[0m\u001b[1;33m)\u001b[0m\u001b[1;33m\u001b[0m\u001b[1;33m\u001b[0m\u001b[0m\n\u001b[0m\u001b[0;32m    204\u001b[0m         \u001b[1;32mif\u001b[0m \u001b[0mvmax\u001b[0m \u001b[1;32mis\u001b[0m \u001b[1;32mNone\u001b[0m\u001b[1;33m:\u001b[0m\u001b[1;33m\u001b[0m\u001b[1;33m\u001b[0m\u001b[0m\n\u001b[0;32m    205\u001b[0m             \u001b[1;32mif\u001b[0m \u001b[0mrobust\u001b[0m\u001b[1;33m:\u001b[0m\u001b[1;33m\u001b[0m\u001b[1;33m\u001b[0m\u001b[0m\n",
      "\u001b[1;32m<__array_function__ internals>\u001b[0m in \u001b[0;36mnanmin\u001b[1;34m(*args, **kwargs)\u001b[0m\n",
      "\u001b[1;32mC:\\ProgramData\\Anaconda3\\lib\\site-packages\\numpy\\lib\\nanfunctions.py\u001b[0m in \u001b[0;36mnanmin\u001b[1;34m(a, axis, out, keepdims)\u001b[0m\n\u001b[0;32m    319\u001b[0m         \u001b[1;31m# Fast, but not safe for subclasses of ndarray, or object arrays,\u001b[0m\u001b[1;33m\u001b[0m\u001b[1;33m\u001b[0m\u001b[1;33m\u001b[0m\u001b[0m\n\u001b[0;32m    320\u001b[0m         \u001b[1;31m# which do not implement isnan (gh-9009), or fmin correctly (gh-8975)\u001b[0m\u001b[1;33m\u001b[0m\u001b[1;33m\u001b[0m\u001b[1;33m\u001b[0m\u001b[0m\n\u001b[1;32m--> 321\u001b[1;33m         \u001b[0mres\u001b[0m \u001b[1;33m=\u001b[0m \u001b[0mnp\u001b[0m\u001b[1;33m.\u001b[0m\u001b[0mfmin\u001b[0m\u001b[1;33m.\u001b[0m\u001b[0mreduce\u001b[0m\u001b[1;33m(\u001b[0m\u001b[0ma\u001b[0m\u001b[1;33m,\u001b[0m \u001b[0maxis\u001b[0m\u001b[1;33m=\u001b[0m\u001b[0maxis\u001b[0m\u001b[1;33m,\u001b[0m \u001b[0mout\u001b[0m\u001b[1;33m=\u001b[0m\u001b[0mout\u001b[0m\u001b[1;33m,\u001b[0m \u001b[1;33m**\u001b[0m\u001b[0mkwargs\u001b[0m\u001b[1;33m)\u001b[0m\u001b[1;33m\u001b[0m\u001b[1;33m\u001b[0m\u001b[0m\n\u001b[0m\u001b[0;32m    322\u001b[0m         \u001b[1;32mif\u001b[0m \u001b[0mnp\u001b[0m\u001b[1;33m.\u001b[0m\u001b[0misnan\u001b[0m\u001b[1;33m(\u001b[0m\u001b[0mres\u001b[0m\u001b[1;33m)\u001b[0m\u001b[1;33m.\u001b[0m\u001b[0many\u001b[0m\u001b[1;33m(\u001b[0m\u001b[1;33m)\u001b[0m\u001b[1;33m:\u001b[0m\u001b[1;33m\u001b[0m\u001b[1;33m\u001b[0m\u001b[0m\n\u001b[0;32m    323\u001b[0m             warnings.warn(\"All-NaN slice encountered\", RuntimeWarning,\n",
      "\u001b[1;31mTypeError\u001b[0m: cannot perform reduce with flexible type"
     ]
    },
    {
     "data": {
      "image/png": "[encoded data removed]",
      "text/plain": [
       "<Figure size 720x720 with 1 Axes>"
      ]
     },
     "metadata": {},
     "output_type": "display_data"
    }
   ],
   "source": [
    "plot(grid)"
   ]
  },
  {
   "cell_type": "code",
   "execution_count": null,
   "metadata": {},
   "outputs": [],
   "source": []
  },
  {
   "cell_type": "code",
   "execution_count": null,
   "metadata": {},
   "outputs": [],
   "source": []
  }
 ],
 "metadata": {
  "kernelspec": {
   "display_name": "Python 3",
   "language": "python",
   "name": "python3"
  },
  "language_info": {
   "codemirror_mode": {
    "name": "ipython",
    "version": 3
   },
   "file_extension": ".py",
   "mimetype": "text/x-python",
   "name": "python",
   "nbconvert_exporter": "python",
   "pygments_lexer": "ipython3",
   "version": "3.8.3"
  }
 },
 "nbformat": 4,
 "nbformat_minor": 4
}
