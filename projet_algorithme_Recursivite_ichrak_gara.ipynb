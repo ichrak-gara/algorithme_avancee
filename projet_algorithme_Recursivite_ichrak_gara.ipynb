{
 "cells": [
  {
   "cell_type": "markdown",
   "metadata": {},
   "source": [
    "# Projet Récursivité"
   ]
  },
  {
   "cell_type": "markdown",
   "metadata": {},
   "source": [
    "### importation:"
   ]
  },
  {
   "cell_type": "code",
   "execution_count": 109,
   "metadata": {},
   "outputs": [],
   "source": [
    "import numpy as np\n",
    "import copy"
   ]
  },
  {
   "cell_type": "markdown",
   "metadata": {},
   "source": [
    "### déclaration:"
   ]
  },
  {
   "cell_type": "code",
   "execution_count": 110,
   "metadata": {},
   "outputs": [],
   "source": [
    "global N\n",
    "#Définir une grille vide (n'importe quelle taille est acceptable)\n",
    "N=8 #taille de l'échiquier \n",
    "grid=[[0]*N for i in range(N)]"
   ]
  },
  {
   "cell_type": "markdown",
   "metadata": {},
   "source": [
    "### la premiére fonction \"possible\""
   ]
  },
  {
   "cell_type": "markdown",
   "metadata": {},
   "source": [
    "<div class=\"alert alert-success\">\n",
    "cette fonction verifie si est-il possible de placer une reine dans y, x ?\n",
    "</div>"
   ]
  },
  {
   "cell_type": "code",
   "execution_count": 111,
   "metadata": {},
   "outputs": [],
   "source": [
    "def possible(grid,y,x):# est-il possible de placer une reine dans y, x?\n",
    "\n",
    "    l=len(grid) # Quelle est la taille de notre grille?\n",
    "    \n",
    "    for i in range(l): #check for reines sur la ligne y\n",
    "        if grid[y][i]=='Q': #si existe retourner faux\n",
    "            return False\n",
    "    for i in range(l):  #check for reines sur la colonne x\n",
    "        if grid[i][x]=='Q': #si existe retourner 0\n",
    "            return False\n",
    "        \n",
    "    for i in range(l):  #boucle à travers toutes les lignes\n",
    "        for j in range(l): #et colonnes\n",
    "            if grid[i][j]=='Q':  #s'il y a une reine\n",
    "                if abs(i - y) == abs(j - x): # et s'il y en a un autre sur une diagonale\n",
    "                    return False #return false\n",
    "    return True #si chaque vérification est effacée, nous pouvons retourner true"
   ]
  },
  {
   "cell_type": "markdown",
   "metadata": {},
   "source": [
    "### la deuxième fonction \"remplir\""
   ]
  },
  {
   "cell_type": "markdown",
   "metadata": {},
   "source": [
    "<div class=\"alert alert-success\">\n",
    "les deux fonctions suivants permetent de remplir tous les cases de la matrice.\n",
    "</div>"
   ]
  },
  {
   "cell_type": "code",
   "execution_count": 112,
   "metadata": {},
   "outputs": [],
   "source": [
    "def remplir(T,i,j,k=1):\n",
    "    for l in range(0,N):\n",
    "        T[l][j]=k\n",
    "    for c in range(0,N):\n",
    "        T[i][c]=k\n",
    "    ii, jj = i+1, j+1\n",
    "    l = len(T)\n",
    "    while ii < l and jj < l:\n",
    "        T[ii][jj]=k\n",
    "        ii, jj = ii + 1, jj + 1\n",
    "    row=i\n",
    "    col=j\n",
    "    ii, jj = row+1, col-1\n",
    "    while ii < l and jj >= 0:\n",
    "        T[ii][jj]=k\n",
    "        ii, jj = ii + 1, jj - 1 \n",
    "    row=i\n",
    "    col=j\n",
    "    ii, jj = row-1, col+1\n",
    "    while ii >= 0 and jj < l:\n",
    "        T[ii][jj]=k\n",
    "        ii, jj = ii - 1, jj + 1\n",
    "        \n",
    "    return T"
   ]
  },
  {
   "cell_type": "code",
   "execution_count": 113,
   "metadata": {},
   "outputs": [],
   "source": [
    "def nreines(grid):\n",
    "    s=0\n",
    "    ss=0\n",
    "    for i in range(N):\n",
    "        for j in range(N):\n",
    "            if grid[i][j]=='Q':\n",
    "                s+=1\n",
    "            if grid[i][j]==0:\n",
    "                ss+=1\n",
    "    if s==len(grid) and ss==0:\n",
    "        return True"
   ]
  },
  {
   "cell_type": "code",
   "execution_count": 114,
   "metadata": {},
   "outputs": [],
   "source": [
    "def resoudre(grid):\n",
    "    \n",
    "    l=len(grid) #longueur de notre grille    \n",
    "    if nreines(grid):\n",
    "        return grid\n",
    "    for y in range(l): # pour chaque ligne\n",
    "        for x in range(l): #pour chaque colonne\n",
    "            if grid[y][x]==0: # on peut placer s'il n'y a pas de reine à la position donnée\n",
    "                if possible(grid,y,x):#si vide, vérifie si on peut placer une reine\n",
    "                    remplir(grid,y,x)\n",
    "                    grid[y][x]='Q' # si nous pouvons, alors placez-le\n",
    "                    resoudre(grid) #pass grid pour une solution récursive\n",
    "                    #si nous nous retrouvons ici, cela signifie que nous avons cherché dans toutes les branches enfants\n",
    "                    # nous réussissons donc retournez\n",
    "                    if nreines(grid):\n",
    "                            return grid\n",
    "                    grid[y][x]=1\n",
    "                    remplir(grid,y,x,0)\n",
    "                      #remove la reine précédemment placée\n",
    "                    \n",
    "\n",
    "    return grid # signifie que nous avons recherché l'espace, nous pouvons retourner notre résultat\n"
   ]
  },
  {
   "cell_type": "markdown",
   "metadata": {},
   "source": [
    "### Affichage de la matrice:"
   ]
  },
  {
   "cell_type": "code",
   "execution_count": 115,
   "metadata": {},
   "outputs": [
    {
     "name": "stdout",
     "output_type": "stream",
     "text": [
      "[['Q' '1' '1' '1' '1' '1' '1' '1']\n",
      " ['1' '1' '1' '1' '1' 'Q' '1' '1']\n",
      " ['1' '1' '1' '1' '1' '1' '1' 'Q']\n",
      " ['1' '1' 'Q' '1' '1' '1' '1' '1']\n",
      " ['1' '1' '1' '1' '1' '1' 'Q' '1']\n",
      " ['1' '1' '1' 'Q' '1' '1' '1' '1']\n",
      " ['1' 'Q' '1' '1' '1' '1' '1' '1']\n",
      " ['1' '1' '1' '1' 'Q' '1' '1' '1']]\n"
     ]
    }
   ],
   "source": [
    "Solution = resoudre(copy.deepcopy(grid)) #obtenir la solution\n",
    "print(np.matrix(Solution)) #Print la solution"
   ]
  },
  {
   "cell_type": "markdown",
   "metadata": {},
   "source": [
    "# visualiser la solution sur un échiquier"
   ]
  },
  {
   "cell_type": "code",
   "execution_count": 118,
   "metadata": {},
   "outputs": [],
   "source": [
    "def plot(Solution):# Plot the solution on a chessboard\n",
    "    import seaborn as sns\n",
    "    import matplotlib.pyplot as plt\n",
    "    import string\n",
    "    \n",
    "    l=len(grid)\n",
    "    Ly=list(range(1,l+1))[::-1]\n",
    "    ly = [str(i) for i in Ly]\n",
    "    Lx=list(string.ascii_uppercase)\n",
    "    lx=Lx[:l]\n",
    "    \n",
    "    plt.close('all')\n",
    "    sns.set(font_scale = 2)\n",
    "    plt.figure(figsize=(10,10))\n",
    "    ax = plt.gca() #you first need to get the axis handle\n",
    "    ax.set_aspect(1)\n",
    "    sns.heatmap(Solution,linewidths=.8,cbar=False,linecolor='blue',\n",
    "                cmap='Reds',center=0.4,xticklabels=lx,yticklabels=ly)"
   ]
  },
  {
   "cell_type": "code",
   "execution_count": 120,
   "metadata": {},
   "outputs": [
    {
     "data": {
      "image/png": "[encoded data removed]",
      "text/plain": [
       "<Figure size 720x720 with 1 Axes>"
      ]
     },
     "metadata": {},
     "output_type": "display_data"
    }
   ],
   "source": [
    "plot(grid)"
   ]
  }
 ],
 "metadata": {
  "kernelspec": {
   "display_name": "Python 3",
   "language": "python",
   "name": "python3"
  },
  "language_info": {
   "codemirror_mode": {
    "name": "ipython",
    "version": 3
   },
   "file_extension": ".py",
   "mimetype": "text/x-python",
   "name": "python",
   "nbconvert_exporter": "python",
   "pygments_lexer": "ipython3",
   "version": "3.8.3"
  }
 },
 "nbformat": 4,
 "nbformat_minor": 4
}
