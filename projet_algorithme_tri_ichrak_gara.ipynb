{
 "cells": [
  {
   "cell_type": "markdown",
   "metadata": {},
   "source": [
    "# Projet algorithme: Analyse & Complexité des Algorithmes"
   ]
  },
  {
   "cell_type": "markdown",
   "metadata": {},
   "source": [
    "## Importation:"
   ]
  },
  {
   "cell_type": "code",
   "execution_count": 1,
   "metadata": {},
   "outputs": [],
   "source": [
    "import time\n",
    "import pandas as pd \n",
    "import timeit\n",
    "import numpy as np\n",
    "%matplotlib inline\n",
    "import matplotlib.pyplot as plt\n",
    "import random\n",
    "from random import *\n"
   ]
  },
  {
   "cell_type": "markdown",
   "metadata": {},
   "source": [
    "# tri par Selection:"
   ]
  },
  {
   "cell_type": "code",
   "execution_count": 2,
   "metadata": {},
   "outputs": [],
   "source": [
    "def tri_selection(vect, ordre='croi'):\n",
    "    if ordre == 'croi':\n",
    "        i = 0\n",
    "        while i < len(vect):\n",
    "            x = vect[i]\n",
    "            for count in range(i+1, len(vect)):\n",
    "                if x > vect[count]:\n",
    "                    x = vect[count]\n",
    "                    vect[count] = vect[i]\n",
    "                    vect[i] = x\n",
    "\n",
    "            i += 1\n",
    "    elif(ordre == 'dec'):\n",
    "        i = 0\n",
    "        while i < len(vect):\n",
    "            x = vect[i]\n",
    "            for count in range(i+1, len(vect)):\n",
    "                if x < vect[count]:\n",
    "                    x = vect[count]\n",
    "                    vect[count] = vect[i]\n",
    "                    vect[i] = x\n",
    "\n",
    "            i += 1\n",
    "    else:\n",
    "        print('entre lordre de trie soit croi: pour croissant ou dec:pour decorissant')\n",
    "    return vect"
   ]
  },
  {
   "cell_type": "markdown",
   "metadata": {},
   "source": [
    "# Tri à Bulle:"
   ]
  },
  {
   "cell_type": "code",
   "execution_count": 3,
   "metadata": {},
   "outputs": [],
   "source": [
    "def tri_bulle(vect, ordre='croi'):\n",
    "    permut = True\n",
    "    p = len(vect)-1\n",
    "    if ordre == 'croi':\n",
    "        while permut:\n",
    "            permut = False\n",
    "            for counter in range(p):\n",
    "                if vect[counter] > vect[counter+1]:\n",
    "                    x = vect[counter]\n",
    "                    vect[counter] = vect[counter+1]\n",
    "                    vect[counter+1] = x\n",
    "                    permut = True\n",
    "            p -= 1\n",
    "    elif ordre == 'dec':\n",
    "        while permut:\n",
    "            permut = False\n",
    "            for counter in range(p):\n",
    "                if vect[counter] < vect[counter+1]:\n",
    "                    x = vect[counter]\n",
    "                    vect[counter] = vect[counter+1]\n",
    "                    vect[counter+1] = x\n",
    "                    permut = True\n",
    "            p -= 1\n",
    "    else:\n",
    "        print('entre lordre de trie soit croi: pour croissant ou dec:pour decorissant')\n",
    "    return vect"
   ]
  },
  {
   "cell_type": "markdown",
   "metadata": {},
   "source": [
    "# tri par insertion:"
   ]
  },
  {
   "cell_type": "code",
   "execution_count": 4,
   "metadata": {},
   "outputs": [],
   "source": [
    "def tri_insertion(vect, ordre='croi'):\n",
    "    if ordre == 'croi':\n",
    "        for counter in range(len(vect)-1):\n",
    "            x = vect[counter+1]\n",
    "            j = counter\n",
    "            while ((vect[j] > x) and (j >= 0)):\n",
    "                vect[j+1] = vect[j]\n",
    "                j -= 1\n",
    "            vect[j+1] = x\n",
    "    elif ordre == 'dec':\n",
    "        for counter in range(len(vect)-1):\n",
    "            x = v[counter+1]\n",
    "            j = counter\n",
    "            while ((vect[j] < x) and (j >= 0)):\n",
    "                vect[j+1] = vect[j]\n",
    "                j -= 1\n",
    "            vect[j+1] = x\n",
    "    else:\n",
    "        print('entre lordre de trie soit croi: pour croissant ou dec:pour decorissant')\n",
    "\n",
    "    return vect"
   ]
  },
  {
   "cell_type": "markdown",
   "metadata": {},
   "source": [
    "# Tri par fusion:"
   ]
  },
  {
   "cell_type": "code",
   "execution_count": 5,
   "metadata": {},
   "outputs": [],
   "source": [
    "def tri_fusion(w):\n",
    "    def triFussion(v):\n",
    "\n",
    "        if len(v) > 1:\n",
    "            mid = len(v)//2\n",
    "            left = v[:mid]\n",
    "            right = v[mid:]\n",
    "\n",
    "            triFussion(left)\n",
    "            triFussion(right)\n",
    "\n",
    "            i = 0\n",
    "            j = 0\n",
    "            k = 0\n",
    "            while i < len(left) and j < len(right):\n",
    "                if left[i] <= right[j]:\n",
    "                    v[k] = left[i]\n",
    "                    i = i+1\n",
    "                else:\n",
    "                    v[k] = right[j]\n",
    "                    j = j+1\n",
    "                k = k+1\n",
    "\n",
    "            while i < len(left):\n",
    "                v[k] = left[i]\n",
    "                i = i+1\n",
    "                k = k+1\n",
    "\n",
    "            while j < len(right):\n",
    "                v[k] = right[j]\n",
    "                j = j+1\n",
    "                k = k+1\n",
    "\n",
    "    triFussion(w)\n",
    "    return w"
   ]
  },
  {
   "cell_type": "markdown",
   "metadata": {},
   "source": [
    "# Tri rapide :"
   ]
  },
  {
   "cell_type": "code",
   "execution_count": 6,
   "metadata": {},
   "outputs": [],
   "source": [
    "def tri_rapide(L):\n",
    "    \"\"\"trirapide(L): tri rapide (quicksort) de la liste L\"\"\"\n",
    "    def trirap(L, g, d):\n",
    "        pivot = L[(g+d)//2]\n",
    "        i = g\n",
    "        j = d\n",
    "        while True:\n",
    "            while L[i] < pivot:\n",
    "                i += 1\n",
    "            while L[j] > pivot:\n",
    "                j -= 1\n",
    "            if i > j:\n",
    "                break\n",
    "            if i < j:\n",
    "                L[i], L[j] = L[j], L[i]\n",
    "            i += 1\n",
    "            j -= 1\n",
    "        if g < j:\n",
    "            trirap(L, g, j)\n",
    "        if i < d:\n",
    "            trirap(L, i, d)\n",
    "\n",
    "    g = 0\n",
    "    d = len(L)-1\n",
    "    trirap(L, g, d)"
   ]
  },
  {
   "cell_type": "markdown",
   "metadata": {},
   "source": [
    "## Main:"
   ]
  },
  {
   "cell_type": "code",
   "execution_count": 7,
   "metadata": {},
   "outputs": [],
   "source": [
    "N = np.arange(20000, 100001, 5000)\n",
    "x_rapide = []\n",
    "y_rapide= []\n",
    "x_insertion =[]\n",
    "y_insertion =[]\n",
    "x_selection =[]\n",
    "y_selection =[]\n",
    "x_bulle =[]\n",
    "y_bulle =[]\n",
    "x_fusion =[]\n",
    "y_fusion =[]"
   ]
  },
  {
   "cell_type": "code",
   "execution_count": 8,
   "metadata": {},
   "outputs": [],
   "source": [
    "def remplir(n):\n",
    "    V = []\n",
    "    for i in range(0, n):\n",
    "        V.append(randint(0, 100000))\n",
    "\n",
    "    return V"
   ]
  },
  {
   "cell_type": "code",
   "execution_count": 9,
   "metadata": {},
   "outputs": [
    {
     "name": "stdout",
     "output_type": "stream",
     "text": [
      "le temps d'exécution est= 44\n",
      "le temps d'exécution est= 60\n",
      "le temps d'exécution est= 72\n",
      "le temps d'exécution est= 85\n",
      "le temps d'exécution est= 96\n",
      "le temps d'exécution est= 110\n",
      "le temps d'exécution est= 131\n",
      "le temps d'exécution est= 126\n",
      "le temps d'exécution est= 208\n",
      "le temps d'exécution est= 193\n",
      "le temps d'exécution est= 183\n",
      "le temps d'exécution est= 202\n",
      "le temps d'exécution est= 221\n",
      "le temps d'exécution est= 223\n",
      "le temps d'exécution est= 258\n",
      "le temps d'exécution est= 263\n",
      "le temps d'exécution est= 286\n"
     ]
    }
   ],
   "source": [
    "for i in N:\n",
    "    V = remplir(i)\n",
    "    t = int(round(time.time() * 1000))\n",
    "    v = tri_rapide(V)\n",
    "    t1 = int(round(time.time()*1000))\n",
    "\n",
    "    x_rapide.append(i)\n",
    "    y_rapide.append(t1-t)\n",
    "    print(\"le temps d'exécution est=\",t1-t)\n"
   ]
  },
  {
   "cell_type": "markdown",
   "metadata": {},
   "source": [
    "## Représentation graphique:"
   ]
  },
  {
   "cell_type": "code",
   "execution_count": 10,
   "metadata": {},
   "outputs": [
    {
     "data": {
      "image/png": "[encoded data removed]",
      "text/plain": [
       "<Figure size 432x288 with 1 Axes>"
      ]
     },
     "metadata": {
      "needs_background": "light"
     },
     "output_type": "display_data"
    }
   ],
   "source": [
    "plt.plot(x_rapide,y_rapide,'r')\n",
    "plt.title('Tri Rapide')\n",
    "plt.xlabel('N:taille de tableau')\n",
    "plt.ylabel(\"T:temps d'execution\")\n",
    "plt.show()"
   ]
  },
  {
   "cell_type": "code",
   "execution_count": 11,
   "metadata": {},
   "outputs": [
    {
     "name": "stdout",
     "output_type": "stream",
     "text": [
      "le temps d'exécution est= 90\n",
      "le temps d'exécution est= 114\n",
      "le temps d'exécution est= 137\n",
      "le temps d'exécution est= 148\n",
      "le temps d'exécution est= 171\n",
      "le temps d'exécution est= 205\n",
      "le temps d'exécution est= 253\n",
      "le temps d'exécution est= 251\n",
      "le temps d'exécution est= 270\n",
      "le temps d'exécution est= 326\n",
      "le temps d'exécution est= 329\n",
      "le temps d'exécution est= 388\n",
      "le temps d'exécution est= 373\n",
      "le temps d'exécution est= 395\n",
      "le temps d'exécution est= 422\n",
      "le temps d'exécution est= 449\n",
      "le temps d'exécution est= 476\n"
     ]
    }
   ],
   "source": [
    "for i in N:\n",
    "    V = remplir(i)\n",
    "    t = int(round(time.time() * 1000))\n",
    "    v = tri_fusion(V)\n",
    "    t1 = int(round(time.time()*1000))\n",
    "    \n",
    "    x_fusion.append(i)\n",
    "    y_fusion.append(t1-t)\n",
    "    print(\"le temps d'exécution est=\", t1-t)"
   ]
  },
  {
   "cell_type": "markdown",
   "metadata": {},
   "source": [
    "## Représentation graphique:"
   ]
  },
  {
   "cell_type": "code",
   "execution_count": 12,
   "metadata": {},
   "outputs": [
    {
     "data": {
      "image/png": "[encoded data removed]",
      "text/plain": [
       "<Figure size 432x288 with 1 Axes>"
      ]
     },
     "metadata": {
      "needs_background": "light"
     },
     "output_type": "display_data"
    }
   ],
   "source": [
    "plt.plot(x_fusion,y_fusion,'r')\n",
    "plt.title('Tri Fusion')\n",
    "plt.xlabel('N:taille de tableau')\n",
    "plt.ylabel(\"T:temps d'execution\")\n",
    "plt.show()"
   ]
  },
  {
   "cell_type": "code",
   "execution_count": 13,
   "metadata": {},
   "outputs": [
    {
     "name": "stdout",
     "output_type": "stream",
     "text": [
      "le temps d'exécution est= 16063\n",
      "le temps d'exécution est= 25701\n",
      "le temps d'exécution est= 34852\n",
      "le temps d'exécution est= 46874\n",
      "le temps d'exécution est= 60162\n",
      "le temps d'exécution est= 77254\n",
      "le temps d'exécution est= 93996\n",
      "le temps d'exécution est= 114212\n",
      "le temps d'exécution est= 135260\n",
      "le temps d'exécution est= 159853\n",
      "le temps d'exécution est= 185129\n",
      "le temps d'exécution est= 210698\n",
      "le temps d'exécution est= 241602\n",
      "le temps d'exécution est= 271763\n",
      "le temps d'exécution est= 306582\n",
      "le temps d'exécution est= 344648\n",
      "le temps d'exécution est= 375598\n"
     ]
    }
   ],
   "source": [
    "for i in N:\n",
    "    V = remplir(i)\n",
    "    t = int(round(time.time() * 1000))\n",
    "    v = tri_insertion(V)\n",
    "    t1 = int(round(time.time()*1000))\n",
    "\n",
    "    x_insertion.append(i)\n",
    "    y_insertion.append(t1-t)\n",
    "    print(\"le temps d'exécution est=\",t1-t)"
   ]
  },
  {
   "cell_type": "markdown",
   "metadata": {},
   "source": [
    "## Représentation graphique:"
   ]
  },
  {
   "cell_type": "code",
   "execution_count": 14,
   "metadata": {},
   "outputs": [
    {
     "ename": "AttributeError",
     "evalue": "'str' object has no attribute 'pop'",
     "output_type": "error",
     "traceback": [
      "\u001b[1;31m---------------------------------------------------------------------------\u001b[0m",
      "\u001b[1;31mAttributeError\u001b[0m                            Traceback (most recent call last)",
      "\u001b[1;32m<ipython-input-14-fb28af0564ca>\u001b[0m in \u001b[0;36m<module>\u001b[1;34m\u001b[0m\n\u001b[0;32m      1\u001b[0m \u001b[0mplt\u001b[0m\u001b[1;33m.\u001b[0m\u001b[0mplot\u001b[0m\u001b[1;33m(\u001b[0m\u001b[0mx_insertion\u001b[0m\u001b[1;33m,\u001b[0m \u001b[0my_insertion\u001b[0m\u001b[1;33m)\u001b[0m\u001b[1;33m\u001b[0m\u001b[1;33m\u001b[0m\u001b[0m\n\u001b[1;32m----> 2\u001b[1;33m \u001b[0mplt\u001b[0m\u001b[1;33m.\u001b[0m\u001b[0mtitle\u001b[0m\u001b[1;33m(\u001b[0m\u001b[1;34m'Tri par insertion'\u001b[0m\u001b[1;33m,\u001b[0m\u001b[1;34m'r'\u001b[0m\u001b[1;33m)\u001b[0m\u001b[1;33m\u001b[0m\u001b[1;33m\u001b[0m\u001b[0m\n\u001b[0m\u001b[0;32m      3\u001b[0m \u001b[0mplt\u001b[0m\u001b[1;33m.\u001b[0m\u001b[0mxlabel\u001b[0m\u001b[1;33m(\u001b[0m\u001b[1;34m'N:taille de tableau'\u001b[0m\u001b[1;33m)\u001b[0m\u001b[1;33m\u001b[0m\u001b[1;33m\u001b[0m\u001b[0m\n\u001b[0;32m      4\u001b[0m \u001b[0mplt\u001b[0m\u001b[1;33m.\u001b[0m\u001b[0mylabel\u001b[0m\u001b[1;33m(\u001b[0m\u001b[1;34m\"T:temps d'execution\"\u001b[0m\u001b[1;33m)\u001b[0m\u001b[1;33m\u001b[0m\u001b[1;33m\u001b[0m\u001b[0m\n\u001b[0;32m      5\u001b[0m \u001b[0mplt\u001b[0m\u001b[1;33m.\u001b[0m\u001b[0mshow\u001b[0m\u001b[1;33m(\u001b[0m\u001b[1;33m)\u001b[0m\u001b[1;33m\u001b[0m\u001b[1;33m\u001b[0m\u001b[0m\n",
      "\u001b[1;32mC:\\ProgramData\\Anaconda3\\lib\\site-packages\\matplotlib\\pyplot.py\u001b[0m in \u001b[0;36mtitle\u001b[1;34m(label, fontdict, loc, pad, **kwargs)\u001b[0m\n\u001b[0;32m   3029\u001b[0m \u001b[1;33m@\u001b[0m\u001b[0mdocstring\u001b[0m\u001b[1;33m.\u001b[0m\u001b[0mcopy\u001b[0m\u001b[1;33m(\u001b[0m\u001b[0mAxes\u001b[0m\u001b[1;33m.\u001b[0m\u001b[0mset_title\u001b[0m\u001b[1;33m)\u001b[0m\u001b[1;33m\u001b[0m\u001b[1;33m\u001b[0m\u001b[0m\n\u001b[0;32m   3030\u001b[0m \u001b[1;32mdef\u001b[0m \u001b[0mtitle\u001b[0m\u001b[1;33m(\u001b[0m\u001b[0mlabel\u001b[0m\u001b[1;33m,\u001b[0m \u001b[0mfontdict\u001b[0m\u001b[1;33m=\u001b[0m\u001b[1;32mNone\u001b[0m\u001b[1;33m,\u001b[0m \u001b[0mloc\u001b[0m\u001b[1;33m=\u001b[0m\u001b[1;32mNone\u001b[0m\u001b[1;33m,\u001b[0m \u001b[0mpad\u001b[0m\u001b[1;33m=\u001b[0m\u001b[1;32mNone\u001b[0m\u001b[1;33m,\u001b[0m \u001b[1;33m**\u001b[0m\u001b[0mkwargs\u001b[0m\u001b[1;33m)\u001b[0m\u001b[1;33m:\u001b[0m\u001b[1;33m\u001b[0m\u001b[1;33m\u001b[0m\u001b[0m\n\u001b[1;32m-> 3031\u001b[1;33m     return gca().set_title(\n\u001b[0m\u001b[0;32m   3032\u001b[0m         label, fontdict=fontdict, loc=loc, pad=pad, **kwargs)\n\u001b[0;32m   3033\u001b[0m \u001b[1;33m\u001b[0m\u001b[0m\n",
      "\u001b[1;32mC:\\ProgramData\\Anaconda3\\lib\\site-packages\\matplotlib\\axes\\_axes.py\u001b[0m in \u001b[0;36mset_title\u001b[1;34m(self, label, fontdict, loc, pad, **kwargs)\u001b[0m\n\u001b[0;32m    211\u001b[0m         \u001b[0mtitle\u001b[0m\u001b[1;33m.\u001b[0m\u001b[0mupdate\u001b[0m\u001b[1;33m(\u001b[0m\u001b[0mdefault\u001b[0m\u001b[1;33m)\u001b[0m\u001b[1;33m\u001b[0m\u001b[1;33m\u001b[0m\u001b[0m\n\u001b[0;32m    212\u001b[0m         \u001b[1;32mif\u001b[0m \u001b[0mfontdict\u001b[0m \u001b[1;32mis\u001b[0m \u001b[1;32mnot\u001b[0m \u001b[1;32mNone\u001b[0m\u001b[1;33m:\u001b[0m\u001b[1;33m\u001b[0m\u001b[1;33m\u001b[0m\u001b[0m\n\u001b[1;32m--> 213\u001b[1;33m             \u001b[0mtitle\u001b[0m\u001b[1;33m.\u001b[0m\u001b[0mupdate\u001b[0m\u001b[1;33m(\u001b[0m\u001b[0mfontdict\u001b[0m\u001b[1;33m)\u001b[0m\u001b[1;33m\u001b[0m\u001b[1;33m\u001b[0m\u001b[0m\n\u001b[0m\u001b[0;32m    214\u001b[0m         \u001b[0mtitle\u001b[0m\u001b[1;33m.\u001b[0m\u001b[0mupdate\u001b[0m\u001b[1;33m(\u001b[0m\u001b[0mkwargs\u001b[0m\u001b[1;33m)\u001b[0m\u001b[1;33m\u001b[0m\u001b[1;33m\u001b[0m\u001b[0m\n\u001b[0;32m    215\u001b[0m         \u001b[1;32mreturn\u001b[0m \u001b[0mtitle\u001b[0m\u001b[1;33m\u001b[0m\u001b[1;33m\u001b[0m\u001b[0m\n",
      "\u001b[1;32mC:\\ProgramData\\Anaconda3\\lib\\site-packages\\matplotlib\\text.py\u001b[0m in \u001b[0;36mupdate\u001b[1;34m(self, kwargs)\u001b[0m\n\u001b[0;32m    174\u001b[0m         \u001b[1;31m# Update bbox last, as it depends on font properties.\u001b[0m\u001b[1;33m\u001b[0m\u001b[1;33m\u001b[0m\u001b[1;33m\u001b[0m\u001b[0m\n\u001b[0;32m    175\u001b[0m         \u001b[0msentinel\u001b[0m \u001b[1;33m=\u001b[0m \u001b[0mobject\u001b[0m\u001b[1;33m(\u001b[0m\u001b[1;33m)\u001b[0m  \u001b[1;31m# bbox can be None, so use another sentinel.\u001b[0m\u001b[1;33m\u001b[0m\u001b[1;33m\u001b[0m\u001b[0m\n\u001b[1;32m--> 176\u001b[1;33m         \u001b[0mbbox\u001b[0m \u001b[1;33m=\u001b[0m \u001b[0mkwargs\u001b[0m\u001b[1;33m.\u001b[0m\u001b[0mpop\u001b[0m\u001b[1;33m(\u001b[0m\u001b[1;34m\"bbox\"\u001b[0m\u001b[1;33m,\u001b[0m \u001b[0msentinel\u001b[0m\u001b[1;33m)\u001b[0m\u001b[1;33m\u001b[0m\u001b[1;33m\u001b[0m\u001b[0m\n\u001b[0m\u001b[0;32m    177\u001b[0m         \u001b[0msuper\u001b[0m\u001b[1;33m(\u001b[0m\u001b[1;33m)\u001b[0m\u001b[1;33m.\u001b[0m\u001b[0mupdate\u001b[0m\u001b[1;33m(\u001b[0m\u001b[0mkwargs\u001b[0m\u001b[1;33m)\u001b[0m\u001b[1;33m\u001b[0m\u001b[1;33m\u001b[0m\u001b[0m\n\u001b[0;32m    178\u001b[0m         \u001b[1;32mif\u001b[0m \u001b[0mbbox\u001b[0m \u001b[1;32mis\u001b[0m \u001b[1;32mnot\u001b[0m \u001b[0msentinel\u001b[0m\u001b[1;33m:\u001b[0m\u001b[1;33m\u001b[0m\u001b[1;33m\u001b[0m\u001b[0m\n",
      "\u001b[1;31mAttributeError\u001b[0m: 'str' object has no attribute 'pop'"
     ]
    },
    {
     "data": {
      "image/png": "[encoded data removed]",
      "text/plain": [
       "<Figure size 432x288 with 1 Axes>"
      ]
     },
     "metadata": {
      "needs_background": "light"
     },
     "output_type": "display_data"
    }
   ],
   "source": [
    "plt.plot(x_insertion, y_insertion)\n",
    "plt.title('Tri par insertion','r')\n",
    "plt.xlabel('N:taille de tableau')\n",
    "plt.ylabel(\"T:temps d'execution\")\n",
    "plt.show()"
   ]
  },
  {
   "cell_type": "code",
   "execution_count": 15,
   "metadata": {},
   "outputs": [
    {
     "name": "stdout",
     "output_type": "stream",
     "text": [
      "le temps d'exécution est= 32709\n",
      "le temps d'exécution est= 48311\n",
      "le temps d'exécution est= 68640\n",
      "le temps d'exécution est= 94140\n",
      "le temps d'exécution est= 131185\n",
      "le temps d'exécution est= 166844\n",
      "le temps d'exécution est= 198404\n",
      "le temps d'exécution est= 243952\n",
      "le temps d'exécution est= 302511\n",
      "le temps d'exécution est= 352365\n",
      "le temps d'exécution est= 407141\n",
      "le temps d'exécution est= 470171\n",
      "le temps d'exécution est= 526825\n",
      "le temps d'exécution est= 594737\n",
      "le temps d'exécution est= 708998\n",
      "le temps d'exécution est= 808466\n",
      "le temps d'exécution est= 1003026\n"
     ]
    }
   ],
   "source": [
    "for i in N:\n",
    "    V = remplir(i)\n",
    "    t = int(round(time.time() * 1000))\n",
    "    v = tri_bulle(V)\n",
    "    t1 = int(round(time.time()*1000))\n",
    "\n",
    "    x_bulle.append(i)\n",
    "    y_bulle.append(t1-t)\n",
    "    print(\"le temps d'exécution est=\",t1-t)"
   ]
  },
  {
   "cell_type": "markdown",
   "metadata": {},
   "source": [
    "## Représentation graphique:"
   ]
  },
  {
   "cell_type": "code",
   "execution_count": 16,
   "metadata": {},
   "outputs": [
    {
     "data": {
      "image/png": "[encoded data removed]",
      "text/plain": [
       "<Figure size 432x288 with 1 Axes>"
      ]
     },
     "metadata": {
      "needs_background": "light"
     },
     "output_type": "display_data"
    }
   ],
   "source": [
    "plt.plot(x_bulle, y_bulle,'r')\n",
    "plt.title('Tri à bulle')\n",
    "plt.xlabel('N:taille de tableau')\n",
    "plt.ylabel(\"T:temps d'execution\")\n",
    "plt.show()"
   ]
  },
  {
   "cell_type": "code",
   "execution_count": 17,
   "metadata": {},
   "outputs": [
    {
     "name": "stdout",
     "output_type": "stream",
     "text": [
      "le temps d'exécution est= 22074\n",
      "le temps d'exécution est= 36035\n",
      "le temps d'exécution est= 58614\n",
      "le temps d'exécution est= 70765\n",
      "le temps d'exécution est= 85278\n",
      "le temps d'exécution est= 104683\n",
      "le temps d'exécution est= 140688\n",
      "le temps d'exécution est= 173133\n",
      "le temps d'exécution est= 231712\n",
      "le temps d'exécution est= 240686\n",
      "le temps d'exécution est= 250618\n",
      "le temps d'exécution est= 286887\n",
      "le temps d'exécution est= 326462\n",
      "le temps d'exécution est= 400947\n",
      "le temps d'exécution est= 474436\n",
      "le temps d'exécution est= 485083\n",
      "le temps d'exécution est= 511025\n"
     ]
    }
   ],
   "source": [
    "for i in N:\n",
    "    V = remplir(i)\n",
    "    t = int(round(time.time() * 1000))\n",
    "    v = tri_selection(V)\n",
    "    t1 = int(round(time.time()*1000))\n",
    "\n",
    "    x_selection.append(i)\n",
    "    y_selection.append(t1-t)\n",
    "    print(\"le temps d'exécution est=\",t1-t)"
   ]
  },
  {
   "cell_type": "markdown",
   "metadata": {},
   "source": [
    "## Représentation graphique:"
   ]
  },
  {
   "cell_type": "code",
   "execution_count": 18,
   "metadata": {},
   "outputs": [
    {
     "data": {
      "image/png": "[encoded data removed]",
      "text/plain": [
       "<Figure size 432x288 with 1 Axes>"
      ]
     },
     "metadata": {
      "needs_background": "light"
     },
     "output_type": "display_data"
    }
   ],
   "source": [
    "plt.plot(x_selection, y_selection,'r')\n",
    "plt.title('Tri par selection')\n",
    "plt.xlabel('N:taille de tableau')\n",
    "plt.ylabel(\"T:temps d'execution\")\n",
    "plt.show()"
   ]
  },
  {
   "cell_type": "code",
   "execution_count": 20,
   "metadata": {},
   "outputs": [
    {
     "data": {
      "image/png": "[encoded data removed]",
      "text/plain": [
       "<Figure size 432x288 with 1 Axes>"
      ]
     },
     "metadata": {
      "needs_background": "light"
     },
     "output_type": "display_data"
    }
   ],
   "source": [
    "plt.plot(x_rapide, y_rapide, label='Tri Rapide')\n",
    "plt.plot(x_fusion, y_fusion, label='Tri fusion')\n",
    "plt.plot(x_insertion, y_insertion, label='Tri insertion')\n",
    "plt.plot(x_selection, y_selection, label='Tri selection')\n",
    "plt.plot(x_bulle, y_bulle, label='Tri bul')\n",
    "plt.title('comparison')\n",
    "plt.legend()\n",
    "plt.grid(True)\n",
    "plt.show()"
   ]
  },
  {
   "cell_type": "code",
   "execution_count": null,
   "metadata": {},
   "outputs": [],
   "source": []
  }
 ],
 "metadata": {
  "kernelspec": {
   "display_name": "Python 3",
   "language": "python",
   "name": "python3"
  },
  "language_info": {
   "codemirror_mode": {
    "name": "ipython",
    "version": 3
   },
   "file_extension": ".py",
   "mimetype": "text/x-python",
   "name": "python",
   "nbconvert_exporter": "python",
   "pygments_lexer": "ipython3",
   "version": "3.8.3"
  }
 },
 "nbformat": 4,
 "nbformat_minor": 4
}
